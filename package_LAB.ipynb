{
 "cells": [
  {
   "cell_type": "markdown",
   "id": "2f440cfb-00f2-48d0-b9ff-4d06e96df02c",
   "metadata": {},
   "source": [
    "# package_DBR"
   ]
  },
  {
   "cell_type": "code",
   "execution_count": 37,
   "id": "74f11716-40ec-4a17-a482-186c7f6135cc",
   "metadata": {},
   "outputs": [],
   "source": [
    "import numpy as np\n",
    "import matplotlib.pyplot as plt\n",
    "from scipy.optimize import minimize\n",
    "from matplotlib import colors as mcolors\n",
    "from importlib import reload\n",
    "\n",
    "import package_DBR\n",
    "from package_DBR import myRound, SelectPath_RT, Delay_RT, FO_RT, FOPDT, SOPDT, FOPDT_cost, SOPDT_cost, Process, Bode\n",
    "import package_LAB\n",
    "from package_LAB import LEADLAG_RT\n",
    "package_LAB = reload(package_LAB)\n"
   ]
  },
  {
   "cell_type": "markdown",
   "id": "8a6bcbdc-0e37-4c2c-9dde-947c6495680f",
   "metadata": {},
   "source": [
    "# FO_RT()"
   ]
  },
  {
   "cell_type": "code",
   "execution_count": 38,
   "id": "eb34011a-4b3c-4fb1-be02-9d99501b7b85",
   "metadata": {},
   "outputs": [
    {
     "name": "stdout",
     "output_type": "stream",
     "text": [
      "Help on function LL_RT in module package_LAB:\n",
      "\n",
      "LL_RT(MV, Kp, Tlead, Tlag, Ts, PV, PVInit=0, method='EBD')\n",
      "    The function \"LL_RT\" needs to be included in a \"for or while loop\".\n",
      "    \n",
      "    :MV: input vector\n",
      "    :Kp: process gain\n",
      "    :Tlead: lead time constant [s]\n",
      "    :Tlag: lag time constant [s]\n",
      "    :Ts: sampling period [s]\n",
      "    :PV: output vector\n",
      "    :PVInit: (optional: default value is 0)\n",
      "    :method: discretisation method (optional: default value is 'EBD')\n",
      "        EBD: Euler Backward difference\n",
      "        EFD: Euler Forward difference\n",
      "        TRAP: Trapezoïdal method\n",
      "    \n",
      "    \"LL_RT\" = Lead-lag real-time\n",
      "    The function \"LL_RT\" appends a value to the output vector \"PV\".\n",
      "    The appended value is obtained from a recurrent equation that depends on the discretisation method.\n",
      "\n"
     ]
    }
   ],
   "source": [
    "help(LL_RT)"
   ]
  },
  {
   "cell_type": "code",
   "execution_count": 39,
   "id": "f80f4e9a-f748-46c4-8db8-7ac1d4168359",
   "metadata": {},
   "outputs": [
    {
     "ename": "NameError",
     "evalue": "name 'LEADLAG_RT' is not defined",
     "output_type": "error",
     "traceback": [
      "\u001b[1;31m---------------------------------------------------------------------------\u001b[0m",
      "\u001b[1;31mNameError\u001b[0m                                 Traceback (most recent call last)",
      "\u001b[1;32m~\\AppData\\Local\\Temp\\ipykernel_8008\\1645699560.py\u001b[0m in \u001b[0;36m<module>\u001b[1;34m\u001b[0m\n\u001b[0;32m     23\u001b[0m     \u001b[0mSelectPath_RT\u001b[0m\u001b[1;33m(\u001b[0m\u001b[0mMVPath\u001b[0m\u001b[1;33m,\u001b[0m\u001b[0mt\u001b[0m\u001b[1;33m,\u001b[0m\u001b[0mMV\u001b[0m\u001b[1;33m)\u001b[0m\u001b[1;33m\u001b[0m\u001b[1;33m\u001b[0m\u001b[0m\n\u001b[0;32m     24\u001b[0m     \u001b[0mDelay_RT\u001b[0m\u001b[1;33m(\u001b[0m\u001b[0mMV\u001b[0m\u001b[1;33m,\u001b[0m\u001b[0mtheta\u001b[0m\u001b[1;33m,\u001b[0m\u001b[0mTs\u001b[0m\u001b[1;33m,\u001b[0m\u001b[0mMVDelay\u001b[0m\u001b[1;33m)\u001b[0m\u001b[1;33m\u001b[0m\u001b[1;33m\u001b[0m\u001b[0m\n\u001b[1;32m---> 25\u001b[1;33m     \u001b[0mLEADLAG_RT\u001b[0m\u001b[1;33m(\u001b[0m\u001b[0mMVDelay\u001b[0m\u001b[1;33m,\u001b[0m\u001b[0mKp\u001b[0m\u001b[1;33m,\u001b[0m\u001b[0mTlead\u001b[0m\u001b[1;33m,\u001b[0m\u001b[0mTlag\u001b[0m\u001b[1;33m,\u001b[0m\u001b[0mTs\u001b[0m\u001b[1;33m,\u001b[0m\u001b[0mPV_EBD\u001b[0m\u001b[1;33m)\u001b[0m\u001b[1;33m\u001b[0m\u001b[1;33m\u001b[0m\u001b[0m\n\u001b[0m\u001b[0;32m     26\u001b[0m     \u001b[0mLEADLAG_RT\u001b[0m\u001b[1;33m(\u001b[0m\u001b[0mMVDelay\u001b[0m\u001b[1;33m,\u001b[0m\u001b[0mKp\u001b[0m\u001b[1;33m,\u001b[0m\u001b[0mTlead\u001b[0m\u001b[1;33m,\u001b[0m\u001b[0mTlag\u001b[0m\u001b[1;33m,\u001b[0m\u001b[0mTs\u001b[0m\u001b[1;33m,\u001b[0m\u001b[0mPV_EFD\u001b[0m\u001b[1;33m,\u001b[0m\u001b[1;36m0\u001b[0m\u001b[1;33m,\u001b[0m\u001b[1;34m'EFD'\u001b[0m\u001b[1;33m)\u001b[0m\u001b[1;33m\u001b[0m\u001b[1;33m\u001b[0m\u001b[0m\n\u001b[0;32m     27\u001b[0m     \u001b[0mLEADLAG_RT\u001b[0m\u001b[1;33m(\u001b[0m\u001b[0mMVDelay\u001b[0m\u001b[1;33m,\u001b[0m\u001b[0mKp\u001b[0m\u001b[1;33m,\u001b[0m\u001b[0mTlead\u001b[0m\u001b[1;33m,\u001b[0m\u001b[0mTlag\u001b[0m\u001b[1;33m,\u001b[0m\u001b[0mTs\u001b[0m\u001b[1;33m,\u001b[0m\u001b[0mPV_TRAP\u001b[0m\u001b[1;33m,\u001b[0m\u001b[1;36m0\u001b[0m\u001b[1;33m,\u001b[0m\u001b[1;34m'TRAP'\u001b[0m\u001b[1;33m)\u001b[0m\u001b[1;33m\u001b[0m\u001b[1;33m\u001b[0m\u001b[0m\n",
      "\u001b[1;31mNameError\u001b[0m: name 'LEADLAG_RT' is not defined"
     ]
    }
   ],
   "source": [
    "TSim = 100\n",
    "Ts = 1\n",
    "N = int(TSim/Ts) + 1\n",
    "\n",
    "# Path for MV\n",
    "MVPath = {0: 0, 5: 1, 50: 2, 80: 3, TSim: 3}\n",
    "\n",
    "t = []\n",
    "MV = []\n",
    "MVDelay = []\n",
    "PV_EBD = []\n",
    "PV_EFD = []\n",
    "PV_TRAP = []\n",
    "\n",
    "# Parameters\n",
    "Kp = 1\n",
    "Tlead = 15\n",
    "Tlag = 10\n",
    "theta = 10\n",
    "\n",
    "for i in range(0,N):\n",
    "    t.append(i*Ts)\n",
    "    SelectPath_RT(MVPath,t,MV)\n",
    "    Delay_RT(MV,theta,Ts,MVDelay)\n",
    "    LEADLAG_RT(MVDelay,Kp,Tlead,Tlag,Ts,PV_EBD)\n",
    "    LEADLAG_RT(MVDelay,Kp,Tlead,Tlag,Ts,PV_EFD,0,'EFD')\n",
    "    LEADLAG_RT(MVDelay,Kp,Tlead,Tlag,Ts,PV_TRAP,0,'TRAP')\n",
    "    \n",
    "plt.figure(figsize = (15,9))\n",
    "\n",
    "plt.subplot(2,1,1)\n",
    "plt.step(t,MV,'b-',label='MV',where='post')\n",
    "plt.step(t,MVDelay,'b-',linewidth=0.5,label='MV plus delay',where='post')\n",
    "plt.ylabel('Value of MV')\n",
    "plt.title('First order plus delay response')\n",
    "plt.legend(loc='best')\n",
    "plt.xlim([0, TSim])\n",
    "\n",
    "plt.subplot(2,1,2)\n",
    "plt.step(t,PV_EBD,'g-',label='First order response plus delay (EBD)',where='post')\n",
    "plt.step(t,PV_EFD,'lime',label='First order response plus delay (EFD)',where='post')\n",
    "plt.step(t,PV_TRAP,'springgreen',label='First order response plus delay (TRAP)',where='post')\n",
    "plt.ylabel('Value of PV')\n",
    "plt.xlabel('Time [s]')\n",
    "plt.legend(loc='best')\n",
    "plt.xlim([0, TSim])    "
   ]
  },
  {
   "cell_type": "code",
   "execution_count": null,
   "id": "26a2fd89",
   "metadata": {},
   "outputs": [],
   "source": []
  }
 ],
 "metadata": {
  "kernelspec": {
   "display_name": "Python 3 (ipykernel)",
   "language": "python",
   "name": "python3"
  },
  "language_info": {
   "codemirror_mode": {
    "name": "ipython",
    "version": 3
   },
   "file_extension": ".py",
   "mimetype": "text/x-python",
   "name": "python",
   "nbconvert_exporter": "python",
   "pygments_lexer": "ipython3",
   "version": "3.9.13"
  }
 },
 "nbformat": 4,
 "nbformat_minor": 5
}
