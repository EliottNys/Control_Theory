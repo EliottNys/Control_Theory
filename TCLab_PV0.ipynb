{
 "cells": [
  {
   "cell_type": "code",
   "execution_count": null,
   "metadata": {},
   "outputs": [],
   "source": [
    "import numpy as np\n",
    "import matplotlib.pyplot as plt\n",
    "from IPython.display import display, clear_output\n",
    "\n",
    "from datetime import datetime\n",
    "import tclab\n",
    "import time\n",
    "\n",
    "import os\n",
    "\n",
    "import package_DBR\n",
    "from package_DBR import myRound"
   ]
  },
  {
   "cell_type": "code",
   "execution_count": null,
   "metadata": {},
   "outputs": [],
   "source": [
    "PV = []\n",
    "SlopePV = 0\n",
    "SlopePVLim = 0.07 \n",
    "SlopePVTime = 20\n",
    "MV0 = 50\n",
    "DV0 = 50\n",
    "\n",
    "lab = tclab.TCLab()\n",
    "\n",
    "lab.Q1(MV0)\n",
    "lab.Q2(DV0)\n",
    "\n",
    "while True:\n",
    "    PV.append(lab.T1)\n",
    "    print(\"Temperature : {} °C\".format(PV[-1]))\n",
    "\n",
    "    if len(PV) > 1:\n",
    "        SlopePV = (1/(2))*SlopePV + (1/(2))*(PV[-1] - PV[-2])\n",
    "    \n",
    "    if (abs(SlopePV) < SlopePVLim):\n",
    "        TimerSlopePV = TimerSlopePV - 1\n",
    "    else:\n",
    "        TimerSlopePV = SlopePVTime + 1\n",
    "        \n",
    "    if TimerSlopePV == 0:\n",
    "        print(\"The final temperature PV0 is {} °C !!!\".format(PV[-1]))\n",
    "        break\n",
    "\n",
    "    time.sleep(1)\n",
    "\n",
    "lab.close() # Disconnect from TCLab\n",
    "\n",
    "print(\"PV0 = {} °C !!!\".format(PV[-1]))"
   ]
  }
 ],
 "metadata": {
  "language_info": {
   "name": "python"
  },
  "orig_nbformat": 4
 },
 "nbformat": 4,
 "nbformat_minor": 2
}
